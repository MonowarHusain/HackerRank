{
  "nbformat": 4,
  "nbformat_minor": 0,
  "metadata": {
    "colab": {
      "provenance": [],
      "authorship_tag": "ABX9TyP3vafa22V5Dfpp5YJkciY3"
    },
    "kernelspec": {
      "name": "python3",
      "display_name": "Python 3"
    },
    "language_info": {
      "name": "python"
    }
  },
  "cells": [
    {
      "cell_type": "code",
      "execution_count": null,
      "metadata": {
        "id": "VicpHJNIiich"
      },
      "outputs": [],
      "source": [
        "import sys\n",
        "import os\n",
        "\n",
        "class Car:\n",
        "    def __init__(self, max_speed, speed_unit):\n",
        "        self.max_speed = max_speed\n",
        "        self.speed_unit = speed_unit\n",
        "\n",
        "    def __str__(self):\n",
        "        return \"Car with the maximum speed of {} {}\".format(self.max_speed, self.speed_unit)\n",
        "\n",
        "class Boat:\n",
        "    def __init__(self, max_speed):\n",
        "        self.max_speed = max_speed\n",
        "\n",
        "    def __str__(self):\n",
        "        return \"Boat with the maximum speed of {} knots\".format(self.max_speed)\n",
        "\n",
        "if __name__ == '__main__':\n",
        "    input = sys.stdin.read\n",
        "\n",
        "    # Read all the input\n",
        "    data = input().strip().split('\\n')\n",
        "\n",
        "    # Number of queries\n",
        "    q = int(data[0])\n",
        "\n",
        "    # List to store queries\n",
        "    queries = data[1:q+1]\n",
        "\n",
        "    # Open file for writing the output\n",
        "    fptr = open(os.environ['OUTPUT_PATH'], 'w')\n",
        "\n",
        "    for query in queries:\n",
        "        args = query.split()\n",
        "        vehicle_type, params = args[0], args[1:]\n",
        "        if vehicle_type == \"car\":\n",
        "            max_speed, speed_unit = int(params[0]), params[1]\n",
        "            vehicle = Car(max_speed, speed_unit)\n",
        "        elif vehicle_type == \"boat\":\n",
        "            max_speed = int(params[0])\n",
        "            vehicle = Boat(max_speed)\n",
        "        else:\n",
        "            raise ValueError(\"Invalid vehicle type\")\n",
        "        fptr.write(\"{}\\n\".format(vehicle))\n",
        "\n",
        "    fptr.close()\n"
      ]
    }
  ]
}