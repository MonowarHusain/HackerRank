{
  "nbformat": 4,
  "nbformat_minor": 0,
  "metadata": {
    "colab": {
      "provenance": [],
      "authorship_tag": "ABX9TyP86ZcmRg+AJ4a6FrVaZjIY"
    },
    "kernelspec": {
      "name": "python3",
      "display_name": "Python 3"
    },
    "language_info": {
      "name": "python"
    }
  },
  "cells": [
    {
      "cell_type": "code",
      "execution_count": null,
      "metadata": {
        "id": "VicpHJNIiich"
      },
      "outputs": [],
      "source": [
        "def avg(*args):\n",
        "    return float(sum(args)) / len(args)\n",
        "\n",
        "if __name__ == '__main__':\n",
        "    import sys\n",
        "    input = sys.stdin.read().strip()\n",
        "\n",
        "    # Split the input into a list of integers\n",
        "    arguments = list(map(int, input.split()))\n",
        "\n",
        "    # Call the avg function with the arguments\n",
        "    result = avg(*arguments)\n",
        "\n",
        "    # Print the result with 2 decimal places using the format method\n",
        "    print(\"{:.2f}\".format(result))\n"
      ]
    }
  ]
}