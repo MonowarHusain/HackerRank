{
  "nbformat": 4,
  "nbformat_minor": 0,
  "metadata": {
    "colab": {
      "provenance": [],
      "authorship_tag": "ABX9TyNnKMK3SKVR69s4N8Tf0D6W"
    },
    "kernelspec": {
      "name": "python3",
      "display_name": "Python 3"
    },
    "language_info": {
      "name": "python"
    }
  },
  "cells": [
    {
      "cell_type": "code",
      "execution_count": null,
      "metadata": {
        "id": "VicpHJNIiich"
      },
      "outputs": [],
      "source": [
        "import os\n",
        "import sys\n",
        "\n",
        "def calculate_min_distance(crew_positions, job_positions):\n",
        "    # Sorting the crew and job positions\n",
        "    crew_positions.sort()\n",
        "    job_positions.sort()\n",
        "\n",
        "    # Calculating the total minimal distance\n",
        "    total_distance = sum(abs(crew - job) for crew, job in zip(crew_positions, job_positions))\n",
        "\n",
        "    return total_distance\n",
        "\n",
        "if __name__ == '__main__':\n",
        "    # Opening file for writing output\n",
        "    output_file = open(os.environ['OUTPUT_PATH'], 'w')\n",
        "\n",
        "    # Reading number of crew positions\n",
        "    number_of_crew_positions = int(input().strip())\n",
        "\n",
        "    # Reading crew positions\n",
        "    crew_positions = []\n",
        "    for _ in range(number_of_crew_positions):\n",
        "        position = int(input().strip())\n",
        "        crew_positions.append(position)\n",
        "\n",
        "    # Reading number of job positions\n",
        "    number_of_job_positions = int(input().strip())\n",
        "\n",
        "    # Reading job positions\n",
        "    job_positions = []\n",
        "    for _ in range(number_of_job_positions):\n",
        "        position = int(input().strip())\n",
        "        job_positions.append(position)\n",
        "\n",
        "    # Calculating the minimum cost\n",
        "    minimum_cost = calculate_min_distance(crew_positions, job_positions)\n",
        "\n",
        "    # Writing the result to the output file\n",
        "    output_file.write(str(minimum_cost) + '\\n')\n",
        "    output_file.close()\n"
      ]
    }
  ]
}