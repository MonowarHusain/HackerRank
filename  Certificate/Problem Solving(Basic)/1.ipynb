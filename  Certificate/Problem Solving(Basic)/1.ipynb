{
  "nbformat": 4,
  "nbformat_minor": 0,
  "metadata": {
    "colab": {
      "provenance": [],
      "authorship_tag": "ABX9TyNQEjmcEuwZjqsVhsEcnQYO"
    },
    "kernelspec": {
      "name": "python3",
      "display_name": "Python 3"
    },
    "language_info": {
      "name": "python"
    }
  },
  "cells": [
    {
      "cell_type": "code",
      "execution_count": null,
      "metadata": {
        "id": "VicpHJNIiich"
      },
      "outputs": [],
      "source": [
        "def mostActive(customers):\n",
        "    from collections import defaultdict\n",
        "\n",
        "    # Initialize a dictionary to count trades per customer\n",
        "    trade_count = defaultdict(int)\n",
        "\n",
        "    # Count the trades for each customer\n",
        "    for customer in customers:\n",
        "        trade_count[customer] += 1\n",
        "\n",
        "    # Calculate the total number of trades\n",
        "    total_trades = len(customers)\n",
        "\n",
        "    # Determine the 5% threshold\n",
        "    threshold = 0.05 * total_trades\n",
        "\n",
        "    # Identify customers who meet or exceed the 5% threshold\n",
        "    active_customers = []\n",
        "    for customer, count in trade_count.items():\n",
        "        if count >= threshold:\n",
        "            active_customers.append(customer)\n",
        "\n",
        "    # Sort the list of active customers alphabetically\n",
        "    active_customers.sort()\n",
        "\n",
        "    return active_customers\n",
        "\n",
        "if __name__ == '__main__':\n",
        "    import sys\n",
        "    input = sys.stdin.read\n",
        "\n",
        "    # Read and split input data\n",
        "    data = input().split()\n",
        "\n",
        "    # Number of customers\n",
        "    n = int(data[0])\n",
        "\n",
        "    # List of customer trades\n",
        "    customers = data[1:]\n",
        "\n",
        "    # Get the list of most active customers\n",
        "    result = mostActive(customers)\n",
        "\n",
        "    # Print the result\n",
        "    for customer in result:\n",
        "        print(customer)\n"
      ]
    }
  ]
}